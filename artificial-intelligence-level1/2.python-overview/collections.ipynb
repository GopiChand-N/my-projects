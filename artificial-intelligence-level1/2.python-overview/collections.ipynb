{
 "cells": [
  {
   "cell_type": "code",
   "execution_count": 1,
   "id": "12057f20-51f9-4d38-90c5-3e6ab514bc31",
   "metadata": {},
   "outputs": [
    {
     "name": "stdout",
     "output_type": "stream",
     "text": [
      "[10, 20, 30]\n",
      "[10, 'abc', 30, True]\n"
     ]
    }
   ],
   "source": [
    "lst1 = [10, 20, 30]\n",
    "print(lst1)\n",
    "lst2 = [10, \"abc\", 30, True]\n",
    "print(lst2)"
   ]
  },
  {
   "cell_type": "code",
   "execution_count": 2,
   "id": "bcc70367-2203-414a-ba6c-defd133acc3d",
   "metadata": {},
   "outputs": [
    {
     "name": "stdout",
     "output_type": "stream",
     "text": [
      "10\n",
      "[20, 30]\n"
     ]
    }
   ],
   "source": [
    "#Access to data\n",
    "print(lst1[0])\n",
    "print(lst1[1:3])"
   ]
  },
  {
   "cell_type": "code",
   "execution_count": 3,
   "id": "ef283e15-8964-4bab-911d-98f9d37fc0c0",
   "metadata": {},
   "outputs": [
    {
     "name": "stdout",
     "output_type": "stream",
     "text": [
      "10\n",
      "['abc', 30]\n"
     ]
    }
   ],
   "source": [
    "#Access to data\n",
    "print(lst2[0])\n",
    "print(lst2[1:3])"
   ]
  },
  {
   "cell_type": "code",
   "execution_count": 5,
   "id": "f3902c53-2b9b-47bb-b699-9af907c08104",
   "metadata": {},
   "outputs": [
    {
     "name": "stdout",
     "output_type": "stream",
     "text": [
      "<class 'list'>\n",
      "2882544647616\n",
      "2882544647616\n"
     ]
    }
   ],
   "source": [
    "print(type(lst1))\n",
    "print(id(lst1))\n",
    "lst1[0] = 100\n",
    "print(id(lst1))"
   ]
  },
  {
   "cell_type": "code",
   "execution_count": 8,
   "id": "81efeff9-99db-4193-8429-e400abd005cc",
   "metadata": {},
   "outputs": [
    {
     "name": "stdout",
     "output_type": "stream",
     "text": [
      "2882544647616\n",
      "2882544647616\n",
      "2882547798784\n"
     ]
    }
   ],
   "source": [
    "lst3 = lst1\n",
    "print(id(lst1))\n",
    "print(id(lst3))\n",
    "lst4 = lst1.copy()\n",
    "print(id(lst4))"
   ]
  },
  {
   "cell_type": "code",
   "execution_count": 9,
   "id": "dfdec746-4505-4487-8852-01396bc253f8",
   "metadata": {},
   "outputs": [
    {
     "name": "stdout",
     "output_type": "stream",
     "text": [
      "[100, 20, 30] 2882544647616\n",
      "[100, 20, 30, 200] 2882544647616\n"
     ]
    }
   ],
   "source": [
    "print(lst1, id(lst1))\n",
    "lst1.append(200)\n",
    "print(lst1, id(lst1))"
   ]
  },
  {
   "cell_type": "code",
   "execution_count": 10,
   "id": "24e86472-f6cc-4387-ac0a-3a953362ab5e",
   "metadata": {},
   "outputs": [
    {
     "name": "stdout",
     "output_type": "stream",
     "text": [
      "(10, 20)\n"
     ]
    },
    {
     "ename": "TypeError",
     "evalue": "'tuple' object does not support item assignment",
     "output_type": "error",
     "traceback": [
      "\u001b[1;31m---------------------------------------------------------------------------\u001b[0m",
      "\u001b[1;31mTypeError\u001b[0m                                 Traceback (most recent call last)",
      "Cell \u001b[1;32mIn[10], line 3\u001b[0m\n\u001b[0;32m      1\u001b[0m t1 \u001b[38;5;241m=\u001b[39m (\u001b[38;5;241m10\u001b[39m, \u001b[38;5;241m20\u001b[39m, \u001b[38;5;241m30\u001b[39m)\n\u001b[0;32m      2\u001b[0m \u001b[38;5;28mprint\u001b[39m(t1[\u001b[38;5;241m0\u001b[39m:\u001b[38;5;241m2\u001b[39m])\n\u001b[1;32m----> 3\u001b[0m t1[\u001b[38;5;241m0\u001b[39m] \u001b[38;5;241m=\u001b[39m \u001b[38;5;241m100\u001b[39m\n",
      "\u001b[1;31mTypeError\u001b[0m: 'tuple' object does not support item assignment"
     ]
    }
   ],
   "source": [
    "t1 = (10, 20, 30)\n",
    "print(t1[0:2])"
   ]
  },
  {
   "cell_type": "code",
   "execution_count": 15,
   "id": "de89d090-db71-4ec0-a899-a4fed8366298",
   "metadata": {},
   "outputs": [
    {
     "name": "stdout",
     "output_type": "stream",
     "text": [
      "{'matrix': 10, 'lordoftherings': 9} 2882564457984\n"
     ]
    }
   ],
   "source": [
    "d1 = {'matrix':10, 'lordoftherings':9}\n",
    "print(d1, id(d1))"
   ]
  },
  {
   "cell_type": "code",
   "execution_count": 16,
   "id": "03194d32-db1e-47fd-bf75-3ba8a12d6180",
   "metadata": {},
   "outputs": [
    {
     "name": "stdout",
     "output_type": "stream",
     "text": [
      "[10, (10, 20, 30), 40]\n"
     ]
    }
   ],
   "source": [
    "lst3 = [10, t1, 40]\n",
    "print(lst3)"
   ]
  },
  {
   "cell_type": "code",
   "execution_count": 17,
   "id": "7af5d162-faa5-440d-b509-96f73408bf44",
   "metadata": {},
   "outputs": [
    {
     "name": "stdout",
     "output_type": "stream",
     "text": [
      "{'matrix': 10, 'lordoftherings': 9} 2882562941952\n",
      "10\n"
     ]
    }
   ],
   "source": [
    "d1 = {'matrix':10, 'lordoftherings':9}\n",
    "print(d1, id(d1))\n",
    "print(d1['matrix'])"
   ]
  },
  {
   "cell_type": "code",
   "execution_count": 18,
   "id": "31e7f3cc-a3f1-4cc5-a218-b28239411c87",
   "metadata": {},
   "outputs": [],
   "source": [
    "import pandas as pd"
   ]
  },
  {
   "cell_type": "code",
   "execution_count": null,
   "id": "1a07f27e-edf6-4997-abba-360febc5e2c7",
   "metadata": {},
   "outputs": [],
   "source": [
    "import cv2"
   ]
  }
 ],
 "metadata": {
  "kernelspec": {
   "display_name": "Python 3 (ipykernel)",
   "language": "python",
   "name": "python3"
  },
  "language_info": {
   "codemirror_mode": {
    "name": "ipython",
    "version": 3
   },
   "file_extension": ".py",
   "mimetype": "text/x-python",
   "name": "python",
   "nbconvert_exporter": "python",
   "pygments_lexer": "ipython3",
   "version": "3.11.3"
  }
 },
 "nbformat": 4,
 "nbformat_minor": 5
}
