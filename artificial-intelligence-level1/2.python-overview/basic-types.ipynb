{
 "cells": [
  {
   "cell_type": "code",
   "execution_count": 4,
   "id": "79026029-4221-4916-99d8-13b37c10747d",
   "metadata": {},
   "outputs": [
    {
     "name": "stdout",
     "output_type": "stream",
     "text": [
      "10\n",
      "<class 'int'>\n"
     ]
    }
   ],
   "source": [
    "a = 10\n",
    "print(a)\n",
    "print(type(a))"
   ]
  },
  {
   "cell_type": "code",
   "execution_count": 5,
   "id": "479d91ce-b562-4295-a8ad-fe0f3c05118b",
   "metadata": {},
   "outputs": [
    {
     "name": "stdout",
     "output_type": "stream",
     "text": [
      "10.46\n",
      "<class 'float'>\n"
     ]
    }
   ],
   "source": [
    "b = 10.46\n",
    "print(b)\n",
    "print(type(b))"
   ]
  },
  {
   "cell_type": "code",
   "execution_count": 6,
   "id": "4ab28cfb-c26c-4689-befb-33faf85b1fe6",
   "metadata": {},
   "outputs": [
    {
     "name": "stdout",
     "output_type": "stream",
     "text": [
      "True False\n",
      "<class 'bool'>\n"
     ]
    }
   ],
   "source": [
    "c = True\n",
    "d = False\n",
    "print(c, d)\n",
    "print(type(c))"
   ]
  },
  {
   "cell_type": "code",
   "execution_count": 8,
   "id": "7f54b75f-1ae9-4934-ab0c-0ad626f5cd84",
   "metadata": {},
   "outputs": [
    {
     "name": "stdout",
     "output_type": "stream",
     "text": [
      "titanic calamity\n",
      "<class 'str'>\n"
     ]
    }
   ],
   "source": [
    "e = \"titanic\"\n",
    "f = 'calamity'\n",
    "print(e, f)\n",
    "print(type(e))"
   ]
  },
  {
   "cell_type": "code",
   "execution_count": 10,
   "id": "a07c8fab-ba9e-4da0-bf04-5669fddc7a5a",
   "metadata": {},
   "outputs": [
    {
     "name": "stdout",
     "output_type": "stream",
     "text": [
      "140704830821448\n",
      "140704830821448\n",
      "11\n",
      "140704830821480\n"
     ]
    }
   ],
   "source": [
    "g = 10\n",
    "print(id(g))\n",
    "h = 10\n",
    "print(id(h))\n",
    "h += 1\n",
    "print(h)\n",
    "print(id(h))"
   ]
  },
  {
   "cell_type": "code",
   "execution_count": 1,
   "id": "ad946395-9702-4b71-a77c-c67443a20bb1",
   "metadata": {},
   "outputs": [
    {
     "name": "stdout",
     "output_type": "stream",
     "text": [
      "algo 2056942991216\n",
      "algomachine 2056942987952\n"
     ]
    }
   ],
   "source": [
    "i = \"algo\"\n",
    "print(i, id(i))\n",
    "i = \"algo\" + \"machine\"\n",
    "print(i, id(i))"
   ]
  },
  {
   "cell_type": "code",
   "execution_count": 2,
   "id": "1ecda711-c4b4-4886-a2eb-166f891e3864",
   "metadata": {},
   "outputs": [
    {
     "name": "stdout",
     "output_type": "stream",
     "text": [
      "140714264651568 140714264651568 140714264651568\n"
     ]
    }
   ],
   "source": [
    "j = 'abc'\n",
    "k = 'abc'\n",
    "l = j\n",
    "#m = j.copy()\n",
    "print(id(j), id(k), id(l))"
   ]
  },
  {
   "cell_type": "code",
   "execution_count": null,
   "id": "be06535f-0603-4ac2-9e10-9f1c2e065edf",
   "metadata": {},
   "outputs": [],
   "source": []
  }
 ],
 "metadata": {
  "kernelspec": {
   "display_name": "Python 3 (ipykernel)",
   "language": "python",
   "name": "python3"
  },
  "language_info": {
   "codemirror_mode": {
    "name": "ipython",
    "version": 3
   },
   "file_extension": ".py",
   "mimetype": "text/x-python",
   "name": "python",
   "nbconvert_exporter": "python",
   "pygments_lexer": "ipython3",
   "version": "3.11.7"
  }
 },
 "nbformat": 4,
 "nbformat_minor": 5
}
